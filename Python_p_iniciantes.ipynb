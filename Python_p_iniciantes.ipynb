{
  "nbformat": 4,
  "nbformat_minor": 0,
  "metadata": {
    "colab": {
      "provenance": [],
      "collapsed_sections": [],
      "toc_visible": true,
      "authorship_tag": "ABX9TyM/aB+/91K4IjaSycu5KVR5",
      "include_colab_link": true
    },
    "kernelspec": {
      "name": "python3",
      "display_name": "Python 3"
    },
    "language_info": {
      "name": "python"
    }
  },
  "cells": [
    {
      "cell_type": "markdown",
      "metadata": {
        "id": "view-in-github",
        "colab_type": "text"
      },
      "source": [
        "<a href=\"https://colab.research.google.com/github/PedroNacimento/Python_p-_iniciantes/blob/main/Python_p_iniciantes.ipynb\" target=\"_parent\"><img src=\"https://colab.research.google.com/assets/colab-badge.svg\" alt=\"Open In Colab\"/></a>"
      ]
    },
    {
      "cell_type": "markdown",
      "source": [
        "# Primeiro codigo em Python\n",
        "#### Função print() e adicionado comentarios ao seu codigo\n",
        "\n",
        "\n",
        "\n"
      ],
      "metadata": {
        "id": "BBgSLtgx6Y7K"
      }
    },
    {
      "cell_type": "markdown",
      "source": [
        "## Função Print()"
      ],
      "metadata": {
        "id": "xyjkSHgh7czR"
      }
    },
    {
      "cell_type": "code",
      "source": [
        "Print(\"Ola Mundo, este é meu primeiro codigo no colab !!!\")"
      ],
      "metadata": {
        "id": "LeDNG40L6pnJ"
      },
      "execution_count": null,
      "outputs": []
    },
    {
      "cell_type": "markdown",
      "source": [
        "A função print() ou imprimir na tela é formado pela palavra chave é 'print' seguida de dois parenteses com duas aspas em seu interior com o seu conteudo"
      ],
      "metadata": {
        "id": "q5JZSpwx7C64"
      }
    },
    {
      "cell_type": "markdown",
      "source": [
        "##Comentarios\n"
      ],
      "metadata": {
        "id": "a8PmDQdu7ovj"
      }
    },
    {
      "cell_type": "code",
      "source": [
        "# este é o meu primeiro comentario"
      ],
      "metadata": {
        "id": "QM-RoXdx7uGe"
      },
      "execution_count": null,
      "outputs": []
    },
    {
      "cell_type": "markdown",
      "source": [
        "  Os comentarios são ultilizados para passar instruções ao futuros progamadores que possa trabalhar com o nosso codigo \n",
        "\n",
        "  É formado pelo sinal de # seguido da instrução que voçê deseja \n"
      ],
      "metadata": {
        "id": "2z9g2GeW70lo"
      }
    },
    {
      "cell_type": "markdown",
      "source": [
        "# Operadores Aritiméticos \n",
        "\n",
        "\n",
        "\n"
      ],
      "metadata": {
        "id": "lPHl_vAh8_GU"
      }
    },
    {
      "cell_type": "code",
      "source": [
        "print(5 + 5) #operador_de_adição\n",
        "print(5 - 5) #operador_de_subtração\n",
        "print(5 * 5) #operador_de_multiplicação\n",
        "print(5 / 2) #operador_de_divisão real\n",
        "print(5 //2) #operaqdor_de_divisão com ponto flutuante\n",
        "print( 5% 2) #modulo ou resto\n",
        "print(5 **2) #modulo de exponenciação"
      ],
      "metadata": {
        "colab": {
          "base_uri": "https://localhost:8080/"
        },
        "id": "cnI1lt829bSV",
        "outputId": "f4b8868c-1b43-4b41-e27f-6b9a72428af3"
      },
      "execution_count": null,
      "outputs": [
        {
          "output_type": "stream",
          "name": "stdout",
          "text": [
            "10\n",
            "0\n",
            "25\n",
            "2.5\n",
            "2\n",
            "1\n",
            "25\n"
          ]
        }
      ]
    },
    {
      "cell_type": "markdown",
      "source": [
        "# Variavel e Tipos de dados"
      ],
      "metadata": {
        "id": "RfYE6iOf_34J"
      }
    },
    {
      "cell_type": "markdown",
      "source": [
        "variaveis : São espaços de memoria responsaveis por armazenar determinado valor que pode ou nã variar\n",
        "\n",
        "CONSTANTES:São espaços de memoriasque armazenam valores que não variam ou seja são constantes"
      ],
      "metadata": {
        "id": "eDKN61oIACx0"
      }
    },
    {
      "cell_type": "code",
      "source": [
        "x = 5 # atribuição de um valor a variavel \"x\"\n",
        "\n",
        "x = 10# reatribuição , ou seja essa variavel eve seu valor alterado \n",
        "\n",
        "VARIAVEL_C = 3.14 # uma constante sempre deve ser instanciada com letras Mauiscúlas \n",
        "\n",
        "print(x)\n",
        "print(VARIAVEL_C)\n",
        "\n",
        "x==VARIAVEL_C #aqui os dois sinais de igual não estão atribuindo um valor mais sim comparando as duasvariaveis "
      ],
      "metadata": {
        "colab": {
          "base_uri": "https://localhost:8080/"
        },
        "id": "fxE7t27SAclc",
        "outputId": "f3295e03-342e-497e-fcfd-410039f02191"
      },
      "execution_count": null,
      "outputs": [
        {
          "output_type": "stream",
          "name": "stdout",
          "text": [
            "10\n",
            "3.14\n"
          ]
        },
        {
          "output_type": "execute_result",
          "data": {
            "text/plain": [
              "False"
            ]
          },
          "metadata": {},
          "execution_count": 5
        }
      ]
    },
    {
      "cell_type": "markdown",
      "source": [
        "Tipos de Dados"
      ],
      "metadata": {
        "id": "CfK3qCSDBvGC"
      }
    },
    {
      "cell_type": "code",
      "source": [
        "alfa = 10\n",
        "type(alfa) # tipo int(inteiro)\n",
        "\n",
        "beta = 10.5\n",
        "type(beta) # tipo float(ponto flutuante)\n",
        "\n",
        "omega = \"palavra\"\n",
        "type(omega) # tipo string(caracter)\n",
        "\n",
        "teta = 4==4\n",
        "type(teta) # tipo booleano"
      ],
      "metadata": {
        "colab": {
          "base_uri": "https://localhost:8080/"
        },
        "id": "O_E3zYF9ByRV",
        "outputId": "dcc5e02d-0488-4c22-df92-1d5846d5f28b"
      },
      "execution_count": null,
      "outputs": [
        {
          "output_type": "execute_result",
          "data": {
            "text/plain": [
              "bool"
            ]
          },
          "metadata": {},
          "execution_count": 9
        }
      ]
    },
    {
      "cell_type": "markdown",
      "source": [
        "# Função de entrada\n",
        "##### A função **input** é uma função de entrada dde dados onde o usuario pode adicionar dados ao programa\n",
        "\n",
        "primeiramente ela atribuida a uma variavel , logo em seguida encapsulada em parênteses a um converso do tipo desejado e depois  começa  com a palavra chave **input** seguida de parêntes com o conteudo de caracters em seu interior \n"
      ],
      "metadata": {
        "id": "b8y5w9_vDS7E"
      }
    },
    {
      "cell_type": "code",
      "source": [
        "idade = int(input(\"Qual é a sua idade: \"))\n",
        "\n",
        "if idade > 18:\n",
        "  print(\"muito bem pode entrar :-)\")"
      ],
      "metadata": {
        "colab": {
          "base_uri": "https://localhost:8080/"
        },
        "id": "xn-7PstbECUt",
        "outputId": "123f69de-8e89-49c5-e77e-4d15e97b6be3"
      },
      "execution_count": null,
      "outputs": [
        {
          "output_type": "stream",
          "name": "stdout",
          "text": [
            "qual é a sua idade: 25\n",
            "muito bem pode entrar :-)\n"
          ]
        }
      ]
    },
    {
      "cell_type": "markdown",
      "source": [],
      "metadata": {
        "id": "Qy7SyYC8DSqS"
      }
    },
    {
      "cell_type": "markdown",
      "source": [
        "# Manipulação de strings\n",
        "\n",
        "> Maiúscula,minuscula e título\n",
        "\n",
        "\n"
      ],
      "metadata": {
        "id": "KEiusj7wOHN2"
      }
    },
    {
      "cell_type": "code",
      "source": [],
      "metadata": {
        "id": "mpbSjgVO6Ub0"
      },
      "execution_count": null,
      "outputs": []
    },
    {
      "cell_type": "markdown",
      "source": [
        "# Formatação de Strinhs\n"
      ],
      "metadata": {
        "id": "P0TdZYYm6REf"
      }
    },
    {
      "cell_type": "code",
      "execution_count": null,
      "metadata": {
        "colab": {
          "base_uri": "https://localhost:8080/"
        },
        "id": "rs-K9HX9Ahi0",
        "outputId": "cd671c51-ab7c-438c-9698-40c4d1ced0ff"
      },
      "outputs": [
        {
          "output_type": "stream",
          "name": "stdout",
          "text": [
            "PYTHON\n"
          ]
        }
      ],
      "source": [
        "curso = \"python\"\n",
        "\n",
        "print(curso.upper())"
      ]
    },
    {
      "cell_type": "markdown",
      "source": [
        " O metodo** \"upper\"** converte todos os caracters para letras maiusculas "
      ],
      "metadata": {
        "id": "laCOuPQKPp9e"
      }
    },
    {
      "cell_type": "code",
      "source": [
        "cuso =\"python\"\n",
        "print(curso.lower())\n"
      ],
      "metadata": {
        "colab": {
          "base_uri": "https://localhost:8080/"
        },
        "id": "OhxgTGU2PFNU",
        "outputId": "d87f0a64-07eb-481e-9ff1-a189f59dd417"
      },
      "execution_count": null,
      "outputs": [
        {
          "output_type": "stream",
          "name": "stdout",
          "text": [
            "python\n"
          ]
        }
      ]
    },
    {
      "cell_type": "markdown",
      "source": [
        "  O metodo **lower** converte todos as caracters para letras minusculas"
      ],
      "metadata": {
        "id": "ncXET7yMP1BL"
      }
    },
    {
      "cell_type": "code",
      "source": [
        "curso = \"python\"\n",
        "print(curso.title())"
      ],
      "metadata": {
        "colab": {
          "base_uri": "https://localhost:8080/"
        },
        "id": "vURzvi6_PPQ7",
        "outputId": "381c5f0f-5cc0-4de4-b0c7-a6c9e159de16"
      },
      "execution_count": null,
      "outputs": [
        {
          "output_type": "stream",
          "name": "stdout",
          "text": [
            "Python\n"
          ]
        }
      ]
    },
    {
      "cell_type": "markdown",
      "source": [
        "  O metodo **title** transfomr a string de caracteres em um titulo \n"
      ],
      "metadata": {
        "id": "sD_GS-BkQLVq"
      }
    },
    {
      "cell_type": "code",
      "source": [
        "curso = \"python\"\n",
        "print(curso.center(10 , \"#\"))\n",
        "\n",
        "print(\".\".join(curso))"
      ],
      "metadata": {
        "colab": {
          "base_uri": "https://localhost:8080/"
        },
        "id": "_cfCJ3M2Qb1s",
        "outputId": "083a33bd-e9d5-42af-ff20-b594418ab416"
      },
      "execution_count": null,
      "outputs": [
        {
          "output_type": "stream",
          "name": "stdout",
          "text": [
            "##python##\n",
            "p.y.t.h.o.n\n"
          ]
        }
      ]
    },
    {
      "cell_type": "markdown",
      "source": [
        "## O metodo **center**  , centralizaa o conteudo da variavel passa e adiciona qualquer  caractere que voçê passar como paramentro \n",
        "\n",
        "### O metodo **join** adiciona espacos a string que for passada e tambem pode -se adconar carateres a esses espaços como parametros "
      ],
      "metadata": {
        "id": "WIWE-sOpRfL9"
      }
    },
    {
      "cell_type": "markdown",
      "source": [
        "# Interpolação de Variaves \n",
        "\n"
      ],
      "metadata": {
        "id": "aOHUMtgLTeUW"
      }
    },
    {
      "cell_type": "markdown",
      "source": [
        "Primeiro tipo de interpolação \n",
        "com % (**old style**)"
      ],
      "metadata": {
        "id": "qgM2pzX-T-Vo"
      }
    },
    {
      "cell_type": "code",
      "source": [
        "nome =\"joao\"\n",
        "idade= 28\n",
        "profissão = \"progamador\"\n",
        "linguagem = \"python\"\n",
        "\n",
        "print(\"Ola , me chamo %s , tenho %d anos de idade , trabalho com %s eestou matriculado no curso de %S\"%(nome, idade , profissão , linguageme))"
      ],
      "metadata": {
        "colab": {
          "base_uri": "https://localhost:8080/"
        },
        "id": "UKLd4P1tUEWK",
        "outputId": "d518be57-b7e7-4890-f143-80ce2f351648"
      },
      "execution_count": null,
      "outputs": [
        {
          "output_type": "stream",
          "name": "stdout",
          "text": [
            "Ola , me chamo joao , tenho 28 anos de idade , trabalho com progamador eestou matriculado no curso de python \n"
          ]
        }
      ]
    },
    {
      "cell_type": "markdown",
      "source": [
        "#**Metodo format()**\n",
        "### Consiste na ultilização de cochetes com o numero refere ao index da variavel para adcionar a mesma  no texto"
      ],
      "metadata": {
        "id": "IZrSd2TPVxlT"
      }
    },
    {
      "cell_type": "code",
      "source": [
        "nome =\"joao\"\n",
        "idade= 28\n",
        "profissão = \"progamador\"\n",
        "linguagem = \"python\"\n",
        "\n",
        "\n",
        "print(\"Ola , me chamo {0} , tenho {1} anos de idade , trabalho com {2} e estou matriculado no curso de {3} \".format(nome, idade , profissão , linguagem))\n"
      ],
      "metadata": {
        "colab": {
          "base_uri": "https://localhost:8080/"
        },
        "id": "msFew6uRV5mN",
        "outputId": "29550cc4-324e-4545-ac4b-a31357688747"
      },
      "execution_count": null,
      "outputs": [
        {
          "output_type": "stream",
          "name": "stdout",
          "text": [
            "Ola , me chamo joao , tenho 28 anos de idade , trabalho com progamador e estou matriculado no curso de python \n"
          ]
        }
      ]
    },
    {
      "cell_type": "markdown",
      "source": [],
      "metadata": {
        "id": "23DCBffWiok3"
      }
    },
    {
      "cell_type": "code",
      "source": [
        "2000-2022\n"
      ],
      "metadata": {
        "colab": {
          "base_uri": "https://localhost:8080/"
        },
        "id": "EMIGZeYlibR6",
        "outputId": "42dd11bc-1ca6-4264-d2b3-2be2b71c8d4c"
      },
      "execution_count": null,
      "outputs": [
        {
          "output_type": "execute_result",
          "data": {
            "text/plain": [
              "-22"
            ]
          },
          "metadata": {},
          "execution_count": 7
        }
      ]
    },
    {
      "cell_type": "markdown",
      "source": [
        "# **Metodo f-string**\n",
        "parecido com o meodo formate , mais ao infez de adicionar um ponto com nome fomrate no final , se adiciona um f e "
      ],
      "metadata": {
        "id": "1dEGEqYxbwpz"
      }
    },
    {
      "cell_type": "code",
      "source": [
        "nome =\"joao\"\n",
        "idade= 28\n",
        "profissão = \"progamador\"\n",
        "linguagem = \"python\"\n",
        "\n",
        "\n",
        "print(f\"Ola , me chamo {nome} , tenho {idade} anos de idade , trabalho com {profissão} e estou matriculado no curso de {linguagem} \".format(nome, idade , profissão , linguagem))\n"
      ],
      "metadata": {
        "colab": {
          "base_uri": "https://localhost:8080/"
        },
        "id": "xoKoVVrZq_6u",
        "outputId": "ca1f628e-bf32-4237-ef5f-874ba79ddacf"
      },
      "execution_count": null,
      "outputs": [
        {
          "output_type": "stream",
          "name": "stdout",
          "text": [
            "Ola , me chamo joao , tenho 28 anos de idade , trabalho com progamador e estou matriculado no curso de python \n"
          ]
        }
      ]
    },
    {
      "cell_type": "markdown",
      "source": [
        "# Declaração For"
      ],
      "metadata": {
        "id": "OcsWABO_o8qd"
      }
    },
    {
      "cell_type": "markdown",
      "source": [
        "\n",
        "A  instrução for em Python difere um pouco do que você pode estar acostumado em C ou Pascal. Em vez de sempre iterar sobre uma progressão aritmética de números (como em Pascal), ou dar ao usuário a capacidade de definir tanto a etapa de iteração quanto a condição de parada (como C), a forinstrução do Python itera sobre os itens de qualquer sequência (uma lista ou uma string), na ordem em que aparecem na sequência. Por exemplo (sem trocadilhos):\n",
        "\n"
      ],
      "metadata": {
        "id": "dph9ShPKpQQC"
      }
    },
    {
      "cell_type": "code",
      "source": [
        "palavra = \"carangueijo\"\n",
        "\n",
        "for i in palavra:\n",
        "  print(i)\n",
        "\n"
      ],
      "metadata": {
        "colab": {
          "base_uri": "https://localhost:8080/"
        },
        "id": "rwvr0l1kpC3B",
        "outputId": "dfa2d1ec-ba15-41c9-ff81-0cff51d18d54"
      },
      "execution_count": null,
      "outputs": [
        {
          "output_type": "stream",
          "name": "stdout",
          "text": [
            "c\n",
            "a\n",
            "r\n",
            "a\n",
            "n\n",
            "g\n",
            "u\n",
            "e\n",
            "i\n",
            "j\n",
            "o\n"
          ]
        }
      ]
    },
    {
      "cell_type": "markdown",
      "source": [
        "**- Função Range**"
      ],
      "metadata": {
        "id": "yghNXAtMtpvO"
      }
    },
    {
      "cell_type": "markdown",
      "source": [
        "Se você precisar iterar sobre uma sequência de números, a função range()interna é útil. Gera progressões aritméticas:"
      ],
      "metadata": {
        "id": "9OBp1rigt85_"
      }
    },
    {
      "cell_type": "code",
      "source": [
        "for i in range(10):\n",
        "  print(i)\n",
        "  "
      ],
      "metadata": {
        "colab": {
          "base_uri": "https://localhost:8080/"
        },
        "id": "17AzRoZ9tx3f",
        "outputId": "4b13230d-9561-49fc-d549-79013aa88dd4"
      },
      "execution_count": null,
      "outputs": [
        {
          "output_type": "stream",
          "name": "stdout",
          "text": [
            "0\n",
            "1\n",
            "2\n",
            "3\n",
            "4\n",
            "5\n",
            "6\n",
            "7\n",
            "8\n",
            "9\n"
          ]
        }
      ]
    },
    {
      "cell_type": "code",
      "source": [
        "a = [\"joao\" , \"maria\" , \"carlos\",\"jose\" , \"jesus\"]\n",
        "for i in range(len(a)):\n",
        "  print(i , a[i])"
      ],
      "metadata": {
        "colab": {
          "base_uri": "https://localhost:8080/"
        },
        "id": "XnvVGLVRuUws",
        "outputId": "886e3e00-8450-4462-d522-2549af71de3b"
      },
      "execution_count": null,
      "outputs": [
        {
          "output_type": "stream",
          "name": "stdout",
          "text": [
            "0 joao\n",
            "1 maria\n",
            "2 carlos\n",
            "3 jose\n",
            "4 jesus\n"
          ]
        }
      ]
    },
    {
      "cell_type": "markdown",
      "source": [
        "#While"
      ],
      "metadata": {
        "id": "99GXyFkWvTJs"
      }
    },
    {
      "cell_type": "markdown",
      "source": [],
      "metadata": {
        "id": "kqBzTzhJKLTW"
      }
    },
    {
      "cell_type": "code",
      "source": [
        "contador = 0 \n",
        "while contador < 10:\n",
        "  print(\"ainda não\")\n",
        "  contador = contador + 1\n",
        "print(\"agora deu \")"
      ],
      "metadata": {
        "colab": {
          "base_uri": "https://localhost:8080/"
        },
        "id": "FQfZxhGyx0QY",
        "outputId": "4ab2eedf-77b0-4d5e-e48d-ed87b6141a98"
      },
      "execution_count": null,
      "outputs": [
        {
          "output_type": "stream",
          "name": "stdout",
          "text": [
            "ainda não\n",
            "ainda não\n",
            "ainda não\n",
            "ainda não\n",
            "ainda não\n",
            "ainda não\n",
            "ainda não\n",
            "ainda não\n",
            "ainda não\n",
            "ainda não\n",
            "agora deu \n"
          ]
        }
      ]
    },
    {
      "cell_type": "code",
      "source": [
        "contador = 0 \n",
        "while contador < 10:\n",
        "  print(\"ainda não\")\n",
        "  contador = contador + 1\n",
        "  if contador == 5:\n",
        "      break\n",
        "print(\"agora deu \")"
      ],
      "metadata": {
        "colab": {
          "base_uri": "https://localhost:8080/"
        },
        "id": "q52lhTl3yXvx",
        "outputId": "2a1e29a3-7c03-4d3b-b420-6b556ab29905"
      },
      "execution_count": null,
      "outputs": [
        {
          "output_type": "stream",
          "name": "stdout",
          "text": [
            "ainda não\n",
            "ainda não\n",
            "ainda não\n",
            "ainda não\n",
            "ainda não\n",
            "agora deu \n"
          ]
        }
      ]
    },
    {
      "cell_type": "code",
      "source": [
        "\n",
        "d = int(input(\"digite o numero :\"))\n",
        "contador:0\n",
        "while (d - contador) < 1:\n",
        "  fatorial = fatorial *( d - contador )\n",
        "  contador += 1\n",
        "  print('{0}! == {1}'.format(fatorial , d ))"
      ],
      "metadata": {
        "colab": {
          "base_uri": "https://localhost:8080/",
          "height": 244
        },
        "id": "Q2shyplhylak",
        "outputId": "8ca253dd-b126-4217-8044-12062d10d97d"
      },
      "execution_count": null,
      "outputs": [
        {
          "name": "stdout",
          "output_type": "stream",
          "text": [
            "digite o numero :3\n"
          ]
        },
        {
          "output_type": "error",
          "ename": "ValueError",
          "evalue": "ignored",
          "traceback": [
            "\u001b[0;31m---------------------------------------------------------------------------\u001b[0m",
            "\u001b[0;31mValueError\u001b[0m                                Traceback (most recent call last)",
            "\u001b[0;32m<ipython-input-33-11d1ca2d3519>\u001b[0m in \u001b[0;36m<module>\u001b[0;34m\u001b[0m\n\u001b[1;32m      4\u001b[0m   \u001b[0mfatorial\u001b[0m \u001b[0;34m=\u001b[0m \u001b[0mfatorial\u001b[0m \u001b[0;34m*\u001b[0m\u001b[0;34m(\u001b[0m \u001b[0md\u001b[0m \u001b[0;34m-\u001b[0m \u001b[0mcontador\u001b[0m \u001b[0;34m)\u001b[0m\u001b[0;34m\u001b[0m\u001b[0;34m\u001b[0m\u001b[0m\n\u001b[1;32m      5\u001b[0m   \u001b[0mcontador\u001b[0m \u001b[0;34m+=\u001b[0m \u001b[0;36m1\u001b[0m\u001b[0;34m\u001b[0m\u001b[0;34m\u001b[0m\u001b[0m\n\u001b[0;32m----> 6\u001b[0;31m   \u001b[0mprint\u001b[0m\u001b[0;34m(\u001b[0m\u001b[0;34m'{0}! =={1}'\u001b[0m\u001b[0;34m.\u001b[0m\u001b[0mformat\u001b[0m\u001b[0;34m(\u001b[0m\u001b[0mfatorial\u001b[0m \u001b[0;34m,\u001b[0m \u001b[0md\u001b[0m \u001b[0;34m)\u001b[0m\u001b[0;34m)\u001b[0m\u001b[0;34m\u001b[0m\u001b[0;34m\u001b[0m\u001b[0m\n\u001b[0m",
            "\u001b[0;31mValueError\u001b[0m: Exceeds the limit (4300) for integer string conversion; use sys.set_int_max_str_digits() to increase the limit"
          ]
        }
      ]
    },
    {
      "cell_type": "code",
      "source": [
        "import datetime\n",
        "datetime.date.today()"
      ],
      "metadata": {
        "colab": {
          "base_uri": "https://localhost:8080/"
        },
        "id": "P1oL1Y0vJMd1",
        "outputId": "a7a8226e-3149-4f3b-fc5c-9345ba943c05"
      },
      "execution_count": null,
      "outputs": [
        {
          "output_type": "execute_result",
          "data": {
            "text/plain": [
              "datetime.date(2022, 10, 19)"
            ]
          },
          "metadata": {},
          "execution_count": 35
        }
      ]
    },
    {
      "cell_type": "code",
      "source": [
        "from datetime import date\n",
        "date.isoformat(date.today())"
      ],
      "metadata": {
        "colab": {
          "base_uri": "https://localhost:8080/",
          "height": 36
        },
        "id": "cfR1CwhjKAgr",
        "outputId": "0b76423a-2bdd-44f3-8144-f263efab0e35"
      },
      "execution_count": null,
      "outputs": [
        {
          "output_type": "execute_result",
          "data": {
            "text/plain": [
              "'2022-10-19'"
            ],
            "application/vnd.google.colaboratory.intrinsic+json": {
              "type": "string"
            }
          },
          "metadata": {},
          "execution_count": 36
        }
      ]
    },
    {
      "cell_type": "markdown",
      "source": [
        "#Função\n",
        "Podemos criar uma função que escreve a série de Fibonacci até um limite arbitrário:"
      ],
      "metadata": {
        "id": "HxbKTcJpJeWx"
      }
    },
    {
      "cell_type": "code",
      "source": [
        "def fib(n):    # write Fibonacci series up     \n",
        "     a, b = 0, 1\n",
        "     while a < n:\n",
        "         print(a, end=' ')\n",
        "     a, b = b, a+b\n",
        "\n",
        "\n",
        "print()"
      ],
      "metadata": {
        "colab": {
          "base_uri": "https://localhost:8080/"
        },
        "id": "alCvpJIBJjlZ",
        "outputId": "ae972f3d-792b-463d-fb91-9e467c77edae"
      },
      "execution_count": null,
      "outputs": [
        {
          "output_type": "stream",
          "name": "stdout",
          "text": [
            "<function fib at 0x7f1e58f83560>\n"
          ]
        }
      ]
    }
  ]
}